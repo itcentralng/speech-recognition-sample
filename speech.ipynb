{
 "cells": [
  {
   "cell_type": "code",
   "execution_count": 4,
   "metadata": {},
   "outputs": [],
   "source": [
    "# UNCOMMENT THESE TWO LINES IF YOU FACE ANY ISSUES WITH PACKAGES\n",
    "# pip install SpeechRecognition\n",
    "# pip install pyaudio"
   ]
  },
  {
   "cell_type": "code",
   "execution_count": 5,
   "metadata": {},
   "outputs": [],
   "source": [
    "import sys\n",
    "import ctypes\n",
    "import speech_recognition as sr"
   ]
  },
  {
   "cell_type": "code",
   "execution_count": 6,
   "metadata": {},
   "outputs": [
    {
     "name": "stdout",
     "output_type": "stream",
     "text": [
      "Say something!\n"
     ]
    }
   ],
   "source": [
    "voice = sr.Recognizer()\n",
    "with sr.Microphone() as source:\n",
    "    print(\"Say something!\")\n",
    "    audio = voice.listen(source)"
   ]
  },
  {
   "cell_type": "code",
   "execution_count": 7,
   "metadata": {},
   "outputs": [
    {
     "name": "stdout",
     "output_type": "stream",
     "text": [
      "You said: FM station hello nitrogen hello hello hello\n"
     ]
    }
   ],
   "source": [
    "try:\n",
    "    what_you_said = voice.recognize_google(audio)\n",
    "    print(\"You said: \" + what_you_said)\n",
    "    if what_you_said == \"stop\":\n",
    "        print(\"Stopping...\")\n",
    "        sys.exit()\n",
    "    elif what_you_said == \"lock my PC\":\n",
    "        print(\"Locking...\")\n",
    "        ctypes.windll.user32.LockWorkStation()\n",
    "except sr.UnknownValueError:\n",
    "    print(\"Google Speech Recognition could not understand audio\")\n",
    "except sr.RequestError as e:\n",
    "    print(\"Could not request results from Google Speech Recognition service; {0}\".format(e))"
   ]
  }
 ],
 "metadata": {
  "kernelspec": {
   "display_name": "Python 3.9.2 ('venv': venv)",
   "language": "python",
   "name": "python3"
  },
  "language_info": {
   "codemirror_mode": {
    "name": "ipython",
    "version": 3
   },
   "file_extension": ".py",
   "mimetype": "text/x-python",
   "name": "python",
   "nbconvert_exporter": "python",
   "pygments_lexer": "ipython3",
   "version": "3.9.2"
  },
  "orig_nbformat": 4,
  "vscode": {
   "interpreter": {
    "hash": "95c9419a34b732110d3ff1029e24fe04405c15ead5df09c97721cbac39618ac1"
   }
  }
 },
 "nbformat": 4,
 "nbformat_minor": 2
}
